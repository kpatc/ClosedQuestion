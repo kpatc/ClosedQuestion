{
 "cells": [
  {
   "cell_type": "code",
   "execution_count": null,
   "metadata": {
    "execution": {
     "iopub.execute_input": "2024-12-23T16:15:02.995956Z",
     "iopub.status.busy": "2024-12-23T16:15:02.995055Z",
     "iopub.status.idle": "2024-12-23T16:15:27.597031Z",
     "shell.execute_reply": "2024-12-23T16:15:27.595724Z",
     "shell.execute_reply.started": "2024-12-23T16:15:02.995923Z"
    },
    "trusted": true
   },
   "outputs": [],
   "source": [
    "!pip install gensim==4.2.0\n",
    "!pip install texthero==1.0.5\n",
    "!pip install unidecode"
   ]
  },
  {
   "cell_type": "markdown",
   "metadata": {},
   "source": [
    "**Importation des librairies**"
   ]
  },
  {
   "cell_type": "code",
   "execution_count": null,
   "metadata": {
    "_cell_guid": "b1076dfc-b9ad-4769-8c92-a6c4dae69d19",
    "_uuid": "8f2839f25d086af736a60e9eeb907d3b93b6e0e5",
    "execution": {
     "iopub.execute_input": "2024-12-23T16:15:27.600085Z",
     "iopub.status.busy": "2024-12-23T16:15:27.599233Z",
     "iopub.status.idle": "2024-12-23T16:15:27.606475Z",
     "shell.execute_reply": "2024-12-23T16:15:27.605580Z",
     "shell.execute_reply.started": "2024-12-23T16:15:27.600036Z"
    },
    "trusted": true
   },
   "outputs": [],
   "source": [
    "import numpy as np \n",
    "import pandas as pd \n",
    "import os\n",
    "import matplotlib.pyplot as plt\n",
    "import seaborn as sns\n",
    "import re\n",
    "from bs4 import BeautifulSoup\n",
    "import texthero as hero\n",
    "import re\n",
    "import string\n",
    "from sklearn.model_selection import train_test_split\n",
    "from sklearn.metrics import classification_report\n",
    "from sklearn.preprocessing import StandardScaler\n",
    "from sklearn.model_selection import GridSearchCV\n",
    "from sklearn.ensemble import RandomForestClassifier\n",
    "from xgboost import XGBClassifier\n",
    "from xgboost import plot_importance\n",
    "from transformers import BertTokenizer, BertModel\n",
    "import torch\n"
   ]
  },
  {
   "cell_type": "markdown",
   "metadata": {},
   "source": [
    "**Importation du Dataset Scraper**"
   ]
  },
  {
   "cell_type": "code",
   "execution_count": null,
   "metadata": {
    "execution": {
     "iopub.execute_input": "2024-12-23T16:15:27.608029Z",
     "iopub.status.busy": "2024-12-23T16:15:27.607627Z",
     "iopub.status.idle": "2024-12-23T16:15:27.729930Z",
     "shell.execute_reply": "2024-12-23T16:15:27.729139Z",
     "shell.execute_reply.started": "2024-12-23T16:15:27.608001Z"
    },
    "trusted": true
   },
   "outputs": [],
   "source": [
    "df=pd.read_csv(\"/kaggle/input/scrapped-data/st_questions_data.csv\")\n",
    "df.head()"
   ]
  },
  {
   "cell_type": "markdown",
   "metadata": {},
   "source": [
    "**Exploration des deux datasests**"
   ]
  },
  {
   "cell_type": "code",
   "execution_count": null,
   "metadata": {
    "execution": {
     "iopub.execute_input": "2024-12-23T16:15:27.733513Z",
     "iopub.status.busy": "2024-12-23T16:15:27.732825Z",
     "iopub.status.idle": "2024-12-23T16:15:27.740393Z",
     "shell.execute_reply": "2024-12-23T16:15:27.739435Z",
     "shell.execute_reply.started": "2024-12-23T16:15:27.733470Z"
    },
    "trusted": true
   },
   "outputs": [],
   "source": [
    "df[\"OpenStatus\"].unique()"
   ]
  },
  {
   "cell_type": "code",
   "execution_count": null,
   "metadata": {
    "execution": {
     "iopub.execute_input": "2024-12-23T16:15:27.741708Z",
     "iopub.status.busy": "2024-12-23T16:15:27.741466Z",
     "iopub.status.idle": "2024-12-23T16:15:27.792701Z",
     "shell.execute_reply": "2024-12-23T16:15:27.791819Z",
     "shell.execute_reply.started": "2024-12-23T16:15:27.741684Z"
    },
    "trusted": true
   },
   "outputs": [],
   "source": [
    "print(df.shape)\n",
    "print(df.isnull().sum())\n",
    "df.describe(include=\"all\")"
   ]
  },
  {
   "cell_type": "code",
   "execution_count": null,
   "metadata": {
    "execution": {
     "iopub.execute_input": "2024-12-23T16:15:27.794103Z",
     "iopub.status.busy": "2024-12-23T16:15:27.793887Z",
     "iopub.status.idle": "2024-12-23T16:15:27.800357Z",
     "shell.execute_reply": "2024-12-23T16:15:27.799463Z",
     "shell.execute_reply.started": "2024-12-23T16:15:27.794080Z"
    },
    "trusted": true
   },
   "outputs": [],
   "source": [
    "\n",
    "df.OpenStatus.value_counts()"
   ]
  },
  {
   "cell_type": "markdown",
   "metadata": {
    "execution": {
     "iopub.execute_input": "2024-11-23T11:41:03.260446Z",
     "iopub.status.busy": "2024-11-23T11:41:03.260034Z",
     "iopub.status.idle": "2024-11-23T11:41:03.369314Z",
     "shell.execute_reply": "2024-11-23T11:41:03.367864Z",
     "shell.execute_reply.started": "2024-11-23T11:41:03.260410Z"
    }
   },
   "source": [
    "**Let's import an existing datasets from kaggle release at 2011**"
   ]
  },
  {
   "cell_type": "code",
   "execution_count": null,
   "metadata": {
    "execution": {
     "iopub.execute_input": "2024-12-23T16:15:27.801716Z",
     "iopub.status.busy": "2024-12-23T16:15:27.801471Z",
     "iopub.status.idle": "2024-12-23T16:15:31.593759Z",
     "shell.execute_reply": "2024-12-23T16:15:31.592823Z",
     "shell.execute_reply.started": "2024-12-23T16:15:27.801693Z"
    },
    "trusted": true
   },
   "outputs": [],
   "source": [
    "data=pd.read_csv(\"/kaggle/input/kaggle-st-questions/train-sample.csv\")"
   ]
  },
  {
   "cell_type": "code",
   "execution_count": null,
   "metadata": {
    "execution": {
     "iopub.execute_input": "2024-12-23T16:15:31.595302Z",
     "iopub.status.busy": "2024-12-23T16:15:31.595007Z",
     "iopub.status.idle": "2024-12-23T16:15:31.609097Z",
     "shell.execute_reply": "2024-12-23T16:15:31.608181Z",
     "shell.execute_reply.started": "2024-12-23T16:15:31.595275Z"
    },
    "trusted": true
   },
   "outputs": [],
   "source": [
    "print(data.shape)\n",
    "data.head()"
   ]
  },
  {
   "cell_type": "code",
   "execution_count": null,
   "metadata": {
    "execution": {
     "iopub.execute_input": "2024-12-23T16:15:31.610479Z",
     "iopub.status.busy": "2024-12-23T16:15:31.610206Z",
     "iopub.status.idle": "2024-12-23T16:15:32.287060Z",
     "shell.execute_reply": "2024-12-23T16:15:32.286067Z",
     "shell.execute_reply.started": "2024-12-23T16:15:31.610453Z"
    },
    "trusted": true
   },
   "outputs": [],
   "source": [
    "print(data.isnull().sum())\n",
    "data.describe(include=\"all\")"
   ]
  },
  {
   "cell_type": "code",
   "execution_count": null,
   "metadata": {
    "execution": {
     "iopub.execute_input": "2024-12-23T16:15:32.290166Z",
     "iopub.status.busy": "2024-12-23T16:15:32.289875Z",
     "iopub.status.idle": "2024-12-23T16:15:32.304554Z",
     "shell.execute_reply": "2024-12-23T16:15:32.303681Z",
     "shell.execute_reply.started": "2024-12-23T16:15:32.290139Z"
    },
    "trusted": true
   },
   "outputs": [],
   "source": [
    "data.OpenStatus.value_counts()"
   ]
  },
  {
   "cell_type": "markdown",
   "metadata": {},
   "source": [
    "**Visualisation de la distribution des classes des deux datasets**"
   ]
  },
  {
   "cell_type": "code",
   "execution_count": null,
   "metadata": {
    "execution": {
     "iopub.execute_input": "2024-12-23T16:15:32.305711Z",
     "iopub.status.busy": "2024-12-23T16:15:32.305485Z",
     "iopub.status.idle": "2024-12-23T16:15:32.805713Z",
     "shell.execute_reply": "2024-12-23T16:15:32.804834Z",
     "shell.execute_reply.started": "2024-12-23T16:15:32.305688Z"
    },
    "trusted": true
   },
   "outputs": [],
   "source": [
    "sns.countplot(data=df, x='OpenStatus',palette='viridis')\n",
    "plt.title(\"Distribution des catégories Open status\")\n",
    "plt.xlabel(\"Statuts\")\n",
    "plt.ylabel(\"Nombre de questions\")\n",
    "plt.xticks(rotation=45)  # Rotation des labels pour plus de lisibilité\n",
    "plt.show()"
   ]
  },
  {
   "cell_type": "code",
   "execution_count": null,
   "metadata": {
    "execution": {
     "iopub.execute_input": "2024-12-23T16:15:32.807102Z",
     "iopub.status.busy": "2024-12-23T16:15:32.806836Z",
     "iopub.status.idle": "2024-12-23T16:15:33.110171Z",
     "shell.execute_reply": "2024-12-23T16:15:33.108489Z",
     "shell.execute_reply.started": "2024-12-23T16:15:32.807077Z"
    },
    "trusted": true
   },
   "outputs": [],
   "source": [
    "sns.countplot(data=data, x='OpenStatus',palette='viridis')\n",
    "plt.title(\"Distribution des catégories Open status\")\n",
    "plt.xlabel(\"Statuts\")\n",
    "plt.ylabel(\"Nombre de questions\")\n",
    "plt.xticks(rotation=45)  # Rotation des labels pour plus de lisibilité\n",
    "plt.show()"
   ]
  },
  {
   "cell_type": "markdown",
   "metadata": {},
   "source": [
    "**Nettoyage du dataset scraper**"
   ]
  },
  {
   "cell_type": "code",
   "execution_count": null,
   "metadata": {
    "execution": {
     "iopub.execute_input": "2024-12-23T16:15:33.112497Z",
     "iopub.status.busy": "2024-12-23T16:15:33.111765Z",
     "iopub.status.idle": "2024-12-23T16:15:33.121002Z",
     "shell.execute_reply": "2024-12-23T16:15:33.120107Z",
     "shell.execute_reply.started": "2024-12-23T16:15:33.112446Z"
    },
    "trusted": true
   },
   "outputs": [],
   "source": [
    "#Fonction de nettoyage de texte brute scrapper\n",
    "def clean_text(text):\n",
    "    if pd.isna(text):  # Gerer les valeurs manquantes\n",
    "        return text\n",
    "    \n",
    "    # Supprimer les balises HTML en gardant seulement le texte brut\n",
    "    text_without_html = BeautifulSoup(text, \"html.parser\").get_text()\n",
    "\n",
    "    # Supprimer les blocs de code (entre backticks et dans <code></code>)\n",
    "    text_without_code = re.sub(r\"```.*?```\", \"\", text_without_html, flags=re.DOTALL)  # Code entre backticks\n",
    "    text_without_code = re.sub(r\"<code>.*?</code>\", \"\", text_without_code, flags=re.DOTALL)  # Code dans <code></code>\n",
    "\n",
    "    # Supprimer les URL (commencent par http:// ou https://)\n",
    "    text_without_urls = re.sub(r\"http[s]?://\\S+\", \"\", text_without_code)\n",
    "\n",
    "    # Supprimer les hashtags (#) et mentions (@)\n",
    "    text_without_hashtags_mentions = re.sub(r\"#\\S+\", \"\", text_without_urls)  # Hashtags\n",
    "    text_cleaned = re.sub(r\"@\\S+\", \"\", text_without_hashtags_mentions)  # Mentions\n",
    "\n",
    "    # Supprimer les espaces superflus\n",
    "    text_cleaned = re.sub(r\"\\s+\", \" \", text_cleaned).strip()\n",
    "    return text_cleaned"
   ]
  },
  {
   "cell_type": "code",
   "execution_count": null,
   "metadata": {
    "execution": {
     "iopub.execute_input": "2024-12-23T16:15:33.122816Z",
     "iopub.status.busy": "2024-12-23T16:15:33.122397Z",
     "iopub.status.idle": "2024-12-23T16:15:34.944482Z",
     "shell.execute_reply": "2024-12-23T16:15:34.943576Z",
     "shell.execute_reply.started": "2024-12-23T16:15:33.122754Z"
    },
    "trusted": true
   },
   "outputs": [],
   "source": [
    "#Application de la fonction pour nettoyer le datasets scrappe\n",
    "df['Title']=df['Title'].apply(clean_text)\n",
    "df['Body']=df['Body'].apply(clean_text)"
   ]
  },
  {
   "cell_type": "code",
   "execution_count": null,
   "metadata": {
    "execution": {
     "iopub.execute_input": "2024-12-23T16:15:34.946020Z",
     "iopub.status.busy": "2024-12-23T16:15:34.945737Z",
     "iopub.status.idle": "2024-12-23T16:15:34.959369Z",
     "shell.execute_reply": "2024-12-23T16:15:34.958503Z",
     "shell.execute_reply.started": "2024-12-23T16:15:34.945995Z"
    },
    "trusted": true
   },
   "outputs": [],
   "source": [
    "df.head()"
   ]
  },
  {
   "cell_type": "markdown",
   "metadata": {},
   "source": [
    "**Text mining avec la librairie texthero**  [https://texthero.org/](http://) "
   ]
  },
  {
   "cell_type": "code",
   "execution_count": null,
   "metadata": {
    "execution": {
     "iopub.execute_input": "2024-12-23T16:15:34.960489Z",
     "iopub.status.busy": "2024-12-23T16:15:34.960269Z",
     "iopub.status.idle": "2024-12-23T16:15:34.973974Z",
     "shell.execute_reply": "2024-12-23T16:15:34.973121Z",
     "shell.execute_reply.started": "2024-12-23T16:15:34.960467Z"
    },
    "trusted": true
   },
   "outputs": [],
   "source": [
    "# # texthero Define a custom pipeline for preprocessing\n",
    "# custom_pipeline = [\n",
    "#     preprocessing.fillna,                   # Fill NaN values\n",
    "#     preprocessing.lowercase,                # Convert to lowercase\n",
    "#     preprocessing.remove_whitespace,        # Remove leading/trailing whitespace\n",
    "#     preprocessing.remove_punctuation,       # Remove punctuation\n",
    "#     preprocessing.remove_diacritics,        # Remove diacritics\n",
    "# ]"
   ]
  },
  {
   "cell_type": "markdown",
   "metadata": {},
   "source": [
    "**# Redéfininition de remove_punctuation pour forcer regex=True due a la nouvelle version de pandas**"
   ]
  },
  {
   "cell_type": "code",
   "execution_count": null,
   "metadata": {
    "execution": {
     "iopub.execute_input": "2024-12-23T16:15:34.975204Z",
     "iopub.status.busy": "2024-12-23T16:15:34.974975Z",
     "iopub.status.idle": "2024-12-23T16:15:34.992512Z",
     "shell.execute_reply": "2024-12-23T16:15:34.991700Z",
     "shell.execute_reply.started": "2024-12-23T16:15:34.975181Z"
    },
    "trusted": true
   },
   "outputs": [],
   "source": [
    "def remove_punctuation(input):\n",
    "    RE_PUNCT = re.compile(r'([%s])+' % re.escape(string.punctuation), re.UNICODE)\n",
    "    return input.str.replace(RE_PUNCT, \" \", regex=True)\n",
    "\n",
    "# Remplacer la fonction remove_punctuation de Texthero\n",
    "hero.preprocessing.remove_punctuation = remove_punctuation"
   ]
  },
  {
   "cell_type": "code",
   "execution_count": null,
   "metadata": {
    "execution": {
     "iopub.execute_input": "2024-12-23T16:15:34.994345Z",
     "iopub.status.busy": "2024-12-23T16:15:34.993578Z",
     "iopub.status.idle": "2024-12-23T16:15:35.012273Z",
     "shell.execute_reply": "2024-12-23T16:15:35.011424Z",
     "shell.execute_reply.started": "2024-12-23T16:15:34.994307Z"
    },
    "trusted": true
   },
   "outputs": [],
   "source": [
    "# kaggle dataset is tooo big, let's take just 8 k rows. \n",
    "# Sample 8k randomly! \n",
    "data1=data.sample(8000, random_state = 42)"
   ]
  },
  {
   "cell_type": "code",
   "execution_count": null,
   "metadata": {
    "execution": {
     "iopub.execute_input": "2024-12-23T16:15:35.013494Z",
     "iopub.status.busy": "2024-12-23T16:15:35.013233Z",
     "iopub.status.idle": "2024-12-23T16:15:35.029633Z",
     "shell.execute_reply": "2024-12-23T16:15:35.028846Z",
     "shell.execute_reply.started": "2024-12-23T16:15:35.013470Z"
    },
    "trusted": true
   },
   "outputs": [],
   "source": [
    "data1.head()"
   ]
  },
  {
   "cell_type": "code",
   "execution_count": null,
   "metadata": {
    "execution": {
     "iopub.execute_input": "2024-12-23T16:15:35.030893Z",
     "iopub.status.busy": "2024-12-23T16:15:35.030553Z",
     "iopub.status.idle": "2024-12-23T16:15:35.092394Z",
     "shell.execute_reply": "2024-12-23T16:15:35.091791Z",
     "shell.execute_reply.started": "2024-12-23T16:15:35.030858Z"
    },
    "trusted": true
   },
   "outputs": [],
   "source": [
    "# Ensure columns are filled with empty strings for NaN values\n",
    "data1[['Tag1', 'Tag2', 'Tag3', 'Tag4', 'Tag5']] = data1[['Tag1', 'Tag2', 'Tag3', 'Tag4', 'Tag5']].fillna('')\n",
    "\n",
    "# Combine the columns into a single 'Tags' column\n",
    "data1['Tags'] = data1[['Tag1', 'Tag2', 'Tag3', 'Tag4', 'Tag5']].apply(\n",
    "    lambda x: ', '.join([str(tag) for tag in x if tag]), axis=1\n",
    ")"
   ]
  },
  {
   "cell_type": "code",
   "execution_count": null,
   "metadata": {
    "execution": {
     "iopub.execute_input": "2024-12-23T16:15:35.093506Z",
     "iopub.status.busy": "2024-12-23T16:15:35.093257Z",
     "iopub.status.idle": "2024-12-23T16:15:35.106377Z",
     "shell.execute_reply": "2024-12-23T16:15:35.105456Z",
     "shell.execute_reply.started": "2024-12-23T16:15:35.093483Z"
    },
    "trusted": true
   },
   "outputs": [],
   "source": [
    "data1.head()"
   ]
  },
  {
   "cell_type": "code",
   "execution_count": null,
   "metadata": {
    "execution": {
     "iopub.execute_input": "2024-12-23T16:15:35.108192Z",
     "iopub.status.busy": "2024-12-23T16:15:35.107742Z",
     "iopub.status.idle": "2024-12-23T16:15:35.117613Z",
     "shell.execute_reply": "2024-12-23T16:15:35.116667Z",
     "shell.execute_reply.started": "2024-12-23T16:15:35.108155Z"
    },
    "trusted": true
   },
   "outputs": [],
   "source": [
    "#Nettoyer les tags combines pour plus de clarete\n",
    "data1.drop(['Tag1', 'Tag2', 'Tag3', 'Tag4', 'Tag5'],axis=1,inplace=True)"
   ]
  },
  {
   "cell_type": "markdown",
   "metadata": {},
   "source": [
    "**Text mining sur la colonne Title Body et Tags des questions des 2 datasets avec texthero**"
   ]
  },
  {
   "cell_type": "code",
   "execution_count": null,
   "metadata": {
    "execution": {
     "iopub.execute_input": "2024-12-23T16:15:35.119051Z",
     "iopub.status.busy": "2024-12-23T16:15:35.118761Z",
     "iopub.status.idle": "2024-12-23T16:15:36.513627Z",
     "shell.execute_reply": "2024-12-23T16:15:36.512675Z",
     "shell.execute_reply.started": "2024-12-23T16:15:35.119027Z"
    },
    "trusted": true
   },
   "outputs": [],
   "source": [
    "data1['Title'] = hero.clean(data1['Title'])\n",
    "data1['BodyMarkdown'] = hero.clean(data1['BodyMarkdown'])\n",
    "data1['Tags'] = hero.clean(data1['Tags'])\n",
    "df['Title'] = hero.clean(df['Title'])\n",
    "df['Body'] = hero.clean(df['Body'])\n",
    "df['Tags'] = hero.clean(df['Tags'])"
   ]
  },
  {
   "cell_type": "code",
   "execution_count": null,
   "metadata": {
    "execution": {
     "iopub.execute_input": "2024-12-23T16:15:36.515064Z",
     "iopub.status.busy": "2024-12-23T16:15:36.514763Z",
     "iopub.status.idle": "2024-12-23T16:15:36.528736Z",
     "shell.execute_reply": "2024-12-23T16:15:36.527846Z",
     "shell.execute_reply.started": "2024-12-23T16:15:36.515038Z"
    },
    "trusted": true
   },
   "outputs": [],
   "source": [
    "df.head()"
   ]
  },
  {
   "cell_type": "code",
   "execution_count": null,
   "metadata": {
    "execution": {
     "iopub.execute_input": "2024-12-23T16:15:36.530744Z",
     "iopub.status.busy": "2024-12-23T16:15:36.530066Z",
     "iopub.status.idle": "2024-12-23T16:15:36.545375Z",
     "shell.execute_reply": "2024-12-23T16:15:36.544435Z",
     "shell.execute_reply.started": "2024-12-23T16:15:36.530699Z"
    },
    "trusted": true
   },
   "outputs": [],
   "source": [
    "data1.head()"
   ]
  },
  {
   "cell_type": "markdown",
   "metadata": {},
   "source": [
    "**Mapping des deux datasets:celui de kaggle et scraper**"
   ]
  },
  {
   "cell_type": "code",
   "execution_count": null,
   "metadata": {
    "execution": {
     "iopub.execute_input": "2024-12-23T16:15:36.546949Z",
     "iopub.status.busy": "2024-12-23T16:15:36.546574Z",
     "iopub.status.idle": "2024-12-23T16:15:36.554531Z",
     "shell.execute_reply": "2024-12-23T16:15:36.553540Z",
     "shell.execute_reply.started": "2024-12-23T16:15:36.546919Z"
    },
    "trusted": true
   },
   "outputs": [],
   "source": [
    "#Mapper la colonne OpenStatus(target) des 2 datasets\n",
    "mapping_col = {\n",
    "    'open': 'open',\n",
    "    'not a real question': 'Not suitable for this site',\n",
    "    'off topic': 'Not suitable for this site',\n",
    "    'not constructive': 'Needs details or clarity',\n",
    "    'too localized': 'Needs more focus'\n",
    "}"
   ]
  },
  {
   "cell_type": "code",
   "execution_count": null,
   "metadata": {
    "execution": {
     "iopub.execute_input": "2024-12-23T16:15:36.556059Z",
     "iopub.status.busy": "2024-12-23T16:15:36.555699Z",
     "iopub.status.idle": "2024-12-23T16:15:36.572749Z",
     "shell.execute_reply": "2024-12-23T16:15:36.571932Z",
     "shell.execute_reply.started": "2024-12-23T16:15:36.556021Z"
    },
    "trusted": true
   },
   "outputs": [],
   "source": [
    "data1['OpenStatus'] = data1['OpenStatus'].map(mapping_col)\n",
    "data1.head()"
   ]
  },
  {
   "cell_type": "code",
   "execution_count": null,
   "metadata": {
    "execution": {
     "iopub.execute_input": "2024-12-23T16:15:36.579173Z",
     "iopub.status.busy": "2024-12-23T16:15:36.578899Z",
     "iopub.status.idle": "2024-12-23T16:15:36.586199Z",
     "shell.execute_reply": "2024-12-23T16:15:36.585337Z",
     "shell.execute_reply.started": "2024-12-23T16:15:36.579147Z"
    },
    "trusted": true
   },
   "outputs": [],
   "source": [
    "data1.OpenStatus.value_counts()"
   ]
  },
  {
   "cell_type": "code",
   "execution_count": null,
   "metadata": {
    "execution": {
     "iopub.execute_input": "2024-12-23T16:15:36.587506Z",
     "iopub.status.busy": "2024-12-23T16:15:36.587231Z",
     "iopub.status.idle": "2024-12-23T16:15:36.613122Z",
     "shell.execute_reply": "2024-12-23T16:15:36.612317Z",
     "shell.execute_reply.started": "2024-12-23T16:15:36.587478Z"
    },
    "trusted": true
   },
   "outputs": [],
   "source": [
    "# Faire le mapping des colonnes existant dans les 2 datasets mais portant des noms differents \n",
    "data1 = data1.rename(columns={\"ReputationAtPostCreation\": \"Reputation\",\"BodyMarkdown\":\"Body\",\"OwnerUndeletedAnswerCountAtPostTime\":\"AnswerCount\"})\n",
    "data1.head()"
   ]
  },
  {
   "cell_type": "markdown",
   "metadata": {},
   "source": [
    "**Feature Engineering**"
   ]
  },
  {
   "cell_type": "code",
   "execution_count": null,
   "metadata": {
    "execution": {
     "iopub.execute_input": "2024-12-23T16:15:36.614712Z",
     "iopub.status.busy": "2024-12-23T16:15:36.614163Z",
     "iopub.status.idle": "2024-12-23T16:15:36.703956Z",
     "shell.execute_reply": "2024-12-23T16:15:36.703010Z",
     "shell.execute_reply.started": "2024-12-23T16:15:36.614684Z"
    },
    "trusted": true
   },
   "outputs": [],
   "source": [
    "#Creation de la colonne Text_Length une idee sur la longueur du contenu de la question\n",
    "df['BodyLength'] = df['Body'].apply(lambda x: len(x.split()))\n",
    "data1['BodyLength'] = data1['Body'].apply(lambda x: len(x.split()))"
   ]
  },
  {
   "cell_type": "markdown",
   "metadata": {},
   "source": [
    "**Concatenation des 2 datasets**"
   ]
  },
  {
   "cell_type": "code",
   "execution_count": null,
   "metadata": {
    "execution": {
     "iopub.execute_input": "2024-12-23T16:15:36.705447Z",
     "iopub.status.busy": "2024-12-23T16:15:36.705095Z",
     "iopub.status.idle": "2024-12-23T16:15:36.728722Z",
     "shell.execute_reply": "2024-12-23T16:15:36.727855Z",
     "shell.execute_reply.started": "2024-12-23T16:15:36.705412Z"
    },
    "trusted": true
   },
   "outputs": [],
   "source": [
    "df_conc=pd.concat([df, data1], ignore_index=True)\n",
    "df_conc.head()"
   ]
  },
  {
   "cell_type": "code",
   "execution_count": null,
   "metadata": {
    "execution": {
     "iopub.execute_input": "2024-12-23T16:15:36.729883Z",
     "iopub.status.busy": "2024-12-23T16:15:36.729616Z",
     "iopub.status.idle": "2024-12-23T16:15:36.744525Z",
     "shell.execute_reply": "2024-12-23T16:15:36.743552Z",
     "shell.execute_reply.started": "2024-12-23T16:15:36.729858Z"
    },
    "trusted": true
   },
   "outputs": [],
   "source": [
    "#Suppression des variables non pertinentes \n",
    "df_conc.drop(['QuestionId','CreationDate','AcceptRate','IsAnswered','ViewCount','Score','LastActivityDate','PostId','PostCreationDate','OwnerCreationDate','PostClosedDate'],axis=1,inplace=True)\n",
    "df_conc.head()"
   ]
  },
  {
   "cell_type": "code",
   "execution_count": null,
   "metadata": {
    "execution": {
     "iopub.execute_input": "2024-12-23T16:15:36.746949Z",
     "iopub.status.busy": "2024-12-23T16:15:36.746052Z",
     "iopub.status.idle": "2024-12-23T16:15:36.763672Z",
     "shell.execute_reply": "2024-12-23T16:15:36.762833Z",
     "shell.execute_reply.started": "2024-12-23T16:15:36.746905Z"
    },
    "trusted": true
   },
   "outputs": [],
   "source": [
    "#Suppression de la ligne avec la colonne Reputation et OwnerUserId nan\n",
    "df_conc.dropna(inplace=True)\n",
    "print(df_conc.shape)\n",
    "df_conc.isnull().sum()"
   ]
  },
  {
   "cell_type": "markdown",
   "metadata": {},
   "source": [
    "**Choix des Variables Pertinentes**"
   ]
  },
  {
   "cell_type": "code",
   "execution_count": null,
   "metadata": {
    "execution": {
     "iopub.execute_input": "2024-12-23T16:15:36.764829Z",
     "iopub.status.busy": "2024-12-23T16:15:36.764552Z",
     "iopub.status.idle": "2024-12-23T16:15:36.936656Z",
     "shell.execute_reply": "2024-12-23T16:15:36.935864Z",
     "shell.execute_reply.started": "2024-12-23T16:15:36.764773Z"
    },
    "trusted": true
   },
   "outputs": [],
   "source": [
    "sns.countplot(data=df_conc, x='OpenStatus',palette='viridis')\n",
    "plt.title(\"Distribution des catégories Open status\")\n",
    "plt.xlabel(\"Statuts\")\n",
    "plt.ylabel(\"Nombre de questions\")\n",
    "plt.xticks(rotation=45)  # Rotation des labels pour plus de lisibilité\n",
    "plt.show()"
   ]
  },
  {
   "cell_type": "markdown",
   "metadata": {},
   "source": [
    "**Visualisation des relations**"
   ]
  },
  {
   "cell_type": "code",
   "execution_count": null,
   "metadata": {
    "execution": {
     "iopub.execute_input": "2024-12-23T16:15:36.938068Z",
     "iopub.status.busy": "2024-12-23T16:15:36.937686Z",
     "iopub.status.idle": "2024-12-23T16:15:37.235098Z",
     "shell.execute_reply": "2024-12-23T16:15:37.234204Z",
     "shell.execute_reply.started": "2024-12-23T16:15:36.938031Z"
    },
    "trusted": true
   },
   "outputs": [],
   "source": [
    "# Appliquer un style\n",
    "sns.set_theme(style=\"whitegrid\", palette=\"pastel\")\n",
    "\n",
    "# Définir une palette de couleurs\n",
    "palette = sns.color_palette(\"Set2\")\n",
    "\n",
    "# Graphique 1 : Relation entre ReputationAtPostCreation et OpenStatus\n",
    "plt.figure(figsize=(15, 8))\n",
    "sns.boxplot(x=\"OpenStatus\", y=\"Reputation\", data=df_conc, palette=palette)\n",
    "plt.title(\"Relation entre Reputation et OpenStatus\", fontsize=16, fontweight=\"bold\")\n",
    "plt.ylabel(\"ReputationAtPostCreation\", fontsize=14)\n",
    "plt.xlabel(\"OpenStatus\", fontsize=14)\n",
    "plt.xticks(fontsize=12)\n",
    "plt.yticks(fontsize=12)\n",
    "plt.show()\n"
   ]
  },
  {
   "cell_type": "code",
   "execution_count": null,
   "metadata": {
    "execution": {
     "iopub.execute_input": "2024-12-23T16:15:37.236473Z",
     "iopub.status.busy": "2024-12-23T16:15:37.236181Z",
     "iopub.status.idle": "2024-12-23T16:15:37.574731Z",
     "shell.execute_reply": "2024-12-23T16:15:37.573939Z",
     "shell.execute_reply.started": "2024-12-23T16:15:37.236446Z"
    },
    "trusted": true
   },
   "outputs": [],
   "source": [
    "# Graphique 2 : Relation entre Text_Length et OpenStatus\n",
    "plt.figure(figsize=(15, 8))\n",
    "sns.boxplot(x=\"OpenStatus\", y=\"BodyLength\", data=df_conc, palette=palette)\n",
    "plt.title(\"Relation entre BodyLength et OpenStatus\", fontsize=16, fontweight=\"bold\")\n",
    "plt.ylabel(\"BodyLength\", fontsize=14)\n",
    "plt.xlabel(\"OpenStatus\", fontsize=14)\n",
    "plt.xticks(fontsize=12)\n",
    "plt.yticks(fontsize=12)\n",
    "plt.show()"
   ]
  },
  {
   "cell_type": "code",
   "execution_count": null,
   "metadata": {
    "execution": {
     "iopub.execute_input": "2024-12-23T16:15:37.576662Z",
     "iopub.status.busy": "2024-12-23T16:15:37.576015Z",
     "iopub.status.idle": "2024-12-23T16:15:37.918608Z",
     "shell.execute_reply": "2024-12-23T16:15:37.917814Z",
     "shell.execute_reply.started": "2024-12-23T16:15:37.576621Z"
    },
    "trusted": true
   },
   "outputs": [],
   "source": [
    "# Graphique 2 : Relation entre AnswerCount et OpenStatus\n",
    "plt.figure(figsize=(15, 8))\n",
    "sns.boxplot(x=\"OpenStatus\", y=\"AnswerCount\", data=df_conc, palette=palette)\n",
    "plt.title(\"Relation entre AnswerCount et OpenStatus\", fontsize=16, fontweight=\"bold\")\n",
    "plt.ylabel(\"AnswerCount\", fontsize=14)\n",
    "plt.xlabel(\"OpenStatus\", fontsize=14)\n",
    "plt.xticks(fontsize=12)\n",
    "plt.yticks(fontsize=12)\n",
    "plt.show()"
   ]
  },
  {
   "cell_type": "markdown",
   "metadata": {},
   "source": [
    "**Modeling**"
   ]
  },
  {
   "cell_type": "markdown",
   "metadata": {},
   "source": [
    "**Codage de la variable cible**"
   ]
  },
  {
   "cell_type": "code",
   "execution_count": null,
   "metadata": {
    "execution": {
     "iopub.execute_input": "2024-12-23T16:15:37.920166Z",
     "iopub.status.busy": "2024-12-23T16:15:37.919765Z",
     "iopub.status.idle": "2024-12-23T16:15:37.925022Z",
     "shell.execute_reply": "2024-12-23T16:15:37.924207Z",
     "shell.execute_reply.started": "2024-12-23T16:15:37.920128Z"
    },
    "trusted": true
   },
   "outputs": [],
   "source": [
    "label_id = {'open': 0, 'Not suitable for this site': 1, 'Needs details or clarity': 2, 'Needs more focus': 3, 'Duplicate': 4,'Opinion-based': 5}"
   ]
  },
  {
   "cell_type": "code",
   "execution_count": null,
   "metadata": {
    "execution": {
     "iopub.execute_input": "2024-12-23T16:15:37.926463Z",
     "iopub.status.busy": "2024-12-23T16:15:37.926136Z",
     "iopub.status.idle": "2024-12-23T16:15:37.942744Z",
     "shell.execute_reply": "2024-12-23T16:15:37.941862Z",
     "shell.execute_reply.started": "2024-12-23T16:15:37.926425Z"
    },
    "trusted": true
   },
   "outputs": [],
   "source": [
    "df_conc[\"OpenStatus\"]=df_conc[\"OpenStatus\"].map(label_id)\n",
    "df_conc.head()"
   ]
  },
  {
   "cell_type": "code",
   "execution_count": null,
   "metadata": {
    "execution": {
     "iopub.execute_input": "2024-12-23T16:15:37.944329Z",
     "iopub.status.busy": "2024-12-23T16:15:37.943996Z",
     "iopub.status.idle": "2024-12-23T16:15:37.958911Z",
     "shell.execute_reply": "2024-12-23T16:15:37.957957Z",
     "shell.execute_reply.started": "2024-12-23T16:15:37.944292Z"
    },
    "trusted": true
   },
   "outputs": [],
   "source": [
    "df_conc.shape\n",
    "df_conc.isnull().sum()"
   ]
  },
  {
   "cell_type": "markdown",
   "metadata": {},
   "source": [
    "**Division de l'ensemble de donnees**"
   ]
  },
  {
   "cell_type": "code",
   "execution_count": null,
   "metadata": {
    "execution": {
     "iopub.execute_input": "2024-12-23T16:15:37.960148Z",
     "iopub.status.busy": "2024-12-23T16:15:37.959874Z",
     "iopub.status.idle": "2024-12-23T16:15:37.977492Z",
     "shell.execute_reply": "2024-12-23T16:15:37.976451Z",
     "shell.execute_reply.started": "2024-12-23T16:15:37.960123Z"
    },
    "trusted": true
   },
   "outputs": [],
   "source": [
    "df_train,df_remain= train_test_split(df_conc,test_size=0.20, shuffle=True, random_state=42, stratify=df_conc['OpenStatus'])\n",
    "df_val,df_test= train_test_split(df_remain,test_size=0.3333, shuffle=True, random_state=42, stratify=df_remain['OpenStatus'])"
   ]
  },
  {
   "cell_type": "code",
   "execution_count": null,
   "metadata": {
    "execution": {
     "iopub.execute_input": "2024-12-23T16:15:37.978810Z",
     "iopub.status.busy": "2024-12-23T16:15:37.978532Z",
     "iopub.status.idle": "2024-12-23T16:15:37.990307Z",
     "shell.execute_reply": "2024-12-23T16:15:37.989510Z",
     "shell.execute_reply.started": "2024-12-23T16:15:37.978759Z"
    },
    "trusted": true
   },
   "outputs": [],
   "source": [
    "print(df_train.shape)\n",
    "df_train.head()"
   ]
  },
  {
   "cell_type": "code",
   "execution_count": null,
   "metadata": {
    "execution": {
     "iopub.execute_input": "2024-12-23T16:15:37.991461Z",
     "iopub.status.busy": "2024-12-23T16:15:37.991228Z",
     "iopub.status.idle": "2024-12-23T16:15:38.007134Z",
     "shell.execute_reply": "2024-12-23T16:15:38.006375Z",
     "shell.execute_reply.started": "2024-12-23T16:15:37.991438Z"
    },
    "trusted": true
   },
   "outputs": [],
   "source": [
    "\n",
    "def generate_bert_embeddings(df, text_column, bert_model_name=\"bert-base-uncased\"):\n",
    "    \"\"\"\n",
    "    genere des tokens et des embeddings BERT.\n",
    "    Args:\n",
    "    - df (pd.DataFrame): DataFrame d'entree.\n",
    "    - text_column (str): Nom de la colonne contenant les textes.\n",
    "    - bert_model_name (str): Nom du modèle BERT.\n",
    "\n",
    "    Returns:\n",
    "    - embeddings (torch.Tensor): Embeddings \n",
    "    \"\"\"\n",
    "    tokenizer = BertTokenizer.from_pretrained(bert_model_name)\n",
    "    model = BertModel.from_pretrained(bert_model_name)\n",
    "\n",
    "    # Tokenization\n",
    "    tokens = tokenizer(list(df[text_column]), \n",
    "                       padding=True, truncation=True,max_length=64,return_tensors=\"pt\")\n",
    "\n",
    "    # Génération des embeddings\n",
    "    with torch.no_grad():\n",
    "        embeddings = model(**tokens).last_hidden_state.mean(dim=1)\n",
    "\n",
    "    return tokens, embeddings\n",
    "    "
   ]
  },
  {
   "cell_type": "code",
   "execution_count": null,
   "metadata": {
    "execution": {
     "iopub.execute_input": "2024-12-23T16:15:38.008312Z",
     "iopub.status.busy": "2024-12-23T16:15:38.008076Z",
     "iopub.status.idle": "2024-12-23T16:15:38.027176Z",
     "shell.execute_reply": "2024-12-23T16:15:38.026384Z",
     "shell.execute_reply.started": "2024-12-23T16:15:38.008282Z"
    },
    "trusted": true
   },
   "outputs": [],
   "source": [
    "X_train=df_train[['Reputation','AnswerCount','BodyLength','Title','Body','Tags']]\n",
    "y_train=df_train['OpenStatus']\n",
    "X_val=df_val[['Reputation','AnswerCount','BodyLength','Title','Body','Tags']]\n",
    "y_val=df_val['OpenStatus']\n",
    "X_test=df_test[['Reputation','AnswerCount','BodyLength','Title','Body','Tags']]\n",
    "y_test=df_test['OpenStatus']"
   ]
  },
  {
   "cell_type": "code",
   "execution_count": null,
   "metadata": {
    "execution": {
     "iopub.execute_input": "2024-12-23T16:15:38.028486Z",
     "iopub.status.busy": "2024-12-23T16:15:38.028225Z",
     "iopub.status.idle": "2024-12-23T16:36:06.308042Z",
     "shell.execute_reply": "2024-12-23T16:36:06.307172Z",
     "shell.execute_reply.started": "2024-12-23T16:15:38.028448Z"
    },
    "trusted": true
   },
   "outputs": [],
   "source": [
    "_, title_embed_train = generate_bert_embeddings(X_train, \"Title\")\n",
    "_, body_embed_train = generate_bert_embeddings(X_train, \"Body\")\n",
    "_, tag_embed_train = generate_bert_embeddings(X_train, \"Tags\")"
   ]
  },
  {
   "cell_type": "code",
   "execution_count": null,
   "metadata": {
    "execution": {
     "iopub.execute_input": "2024-12-23T16:36:06.310454Z",
     "iopub.status.busy": "2024-12-23T16:36:06.309604Z",
     "iopub.status.idle": "2024-12-23T16:39:16.133542Z",
     "shell.execute_reply": "2024-12-23T16:39:16.132719Z",
     "shell.execute_reply.started": "2024-12-23T16:36:06.310421Z"
    },
    "trusted": true
   },
   "outputs": [],
   "source": [
    "_, title_embed_val = generate_bert_embeddings(X_val, \"Title\")\n",
    "_, body_embed_val = generate_bert_embeddings(X_val, \"Body\")\n",
    "_, tag_embed_val = generate_bert_embeddings(X_val, \"Tags\")"
   ]
  },
  {
   "cell_type": "code",
   "execution_count": null,
   "metadata": {
    "execution": {
     "iopub.execute_input": "2024-12-23T16:39:16.135181Z",
     "iopub.status.busy": "2024-12-23T16:39:16.134832Z",
     "iopub.status.idle": "2024-12-23T16:40:59.311062Z",
     "shell.execute_reply": "2024-12-23T16:40:59.310223Z",
     "shell.execute_reply.started": "2024-12-23T16:39:16.135146Z"
    },
    "trusted": true
   },
   "outputs": [],
   "source": [
    "_, title_embed_test = generate_bert_embeddings(X_test, \"Title\")\n",
    "_, body_embed_test = generate_bert_embeddings(X_test, \"Body\")\n",
    "_, tag_embed_test = generate_bert_embeddings(X_test, \"Tags\")"
   ]
  },
  {
   "cell_type": "code",
   "execution_count": null,
   "metadata": {
    "execution": {
     "iopub.execute_input": "2024-12-23T16:40:59.312945Z",
     "iopub.status.busy": "2024-12-23T16:40:59.312373Z",
     "iopub.status.idle": "2024-12-23T16:40:59.395230Z",
     "shell.execute_reply": "2024-12-23T16:40:59.394346Z",
     "shell.execute_reply.started": "2024-12-23T16:40:59.312916Z"
    },
    "trusted": true
   },
   "outputs": [],
   "source": [
    "#Normaliser la colonne \"ReputationAtPostCreation\" et \"Text_Length\"\n",
    "scaler = StandardScaler()\n",
    "X_train[\"Reputation\"] = scaler.fit_transform(X_train[[\"Reputation\"]]) \n",
    "X_train[\"BodyLength\"] = scaler.fit_transform(X_train[[\"BodyLength\"]]) \n",
    "X_train[\"AnswerCount\"] = scaler.fit_transform(X_train[[\"AnswerCount\"]]) \n",
    "# Convertir les colonnes numeriques en tenseurs\n",
    "numeric_tensor1 = torch.tensor(X_train['Reputation'].values, dtype=torch.float32).unsqueeze(1)\n",
    "numeric_tensor2 = torch.tensor(X_train['BodyLength'].values, dtype=torch.float32).unsqueeze(1)\n",
    "numeric_tensor3 = torch.tensor(X_train['AnswerCount'].values, dtype=torch.float32).unsqueeze(1)\n",
    "# Combiner les tenseurs numériques en un seul tenseur\n",
    "num_ten_comb_train = torch.cat([numeric_tensor1, numeric_tensor2,numeric_tensor3], dim=1)\n",
    "\n",
    "# Combiner les embeddings textuels et les colonnes numériques\n",
    "comb_feat_train = torch.cat([title_embed_train,body_embed_train,tag_embed_train, num_ten_comb_train], dim=1)\n",
    "comb_feat_train"
   ]
  },
  {
   "cell_type": "code",
   "execution_count": null,
   "metadata": {
    "execution": {
     "iopub.execute_input": "2024-12-23T16:40:59.397002Z",
     "iopub.status.busy": "2024-12-23T16:40:59.396618Z",
     "iopub.status.idle": "2024-12-23T16:40:59.427556Z",
     "shell.execute_reply": "2024-12-23T16:40:59.426635Z",
     "shell.execute_reply.started": "2024-12-23T16:40:59.396963Z"
    },
    "trusted": true
   },
   "outputs": [],
   "source": [
    "#Normalisation et standarisation des variables numeriques\n",
    "X_val[\"Reputation\"] = scaler.fit_transform(X_val[[\"Reputation\"]]) \n",
    "X_val[\"BodyLength\"] = scaler.fit_transform(X_val[[\"BodyLength\"]]) \n",
    "X_val[\"AnswerCount\"] = scaler.fit_transform(X_val[[\"AnswerCount\"]]) \n",
    "# Convertir les colonnes numeriques en tenseurs\n",
    "num_tens1 = torch.tensor(X_val['Reputation'].values, dtype=torch.float32).unsqueeze(1)\n",
    "num_tens2 = torch.tensor(X_val['BodyLength'].values, dtype=torch.float32).unsqueeze(1)\n",
    "num_tens3 = torch.tensor(X_val['AnswerCount'].values, dtype=torch.float32).unsqueeze(1)\n",
    "# Combiner les tenseurs numériques en un seul tenseur\n",
    "num_ten_val = torch.cat([num_tens1, num_tens2,num_tens3], dim=1)\n",
    "\n",
    "# Combiner les embeddings textuels et les colonnes numériques\n",
    "comb_feat_val = torch.cat([title_embed_val,body_embed_val,tag_embed_val, num_ten_val], dim=1)\n",
    "comb_feat_val"
   ]
  },
  {
   "cell_type": "code",
   "execution_count": null,
   "metadata": {
    "execution": {
     "iopub.execute_input": "2024-12-23T16:45:19.247860Z",
     "iopub.status.busy": "2024-12-23T16:45:19.246738Z",
     "iopub.status.idle": "2024-12-23T16:45:19.277729Z",
     "shell.execute_reply": "2024-12-23T16:45:19.276665Z",
     "shell.execute_reply.started": "2024-12-23T16:45:19.247826Z"
    },
    "trusted": true
   },
   "outputs": [],
   "source": [
    "#Normalisation et standarisation des variables numeriques\n",
    "X_test[\"Reputation\"] = scaler.fit_transform(X_test[[\"Reputation\"]]) \n",
    "X_test[\"BodyLength\"] = scaler.fit_transform(X_test[[\"BodyLength\"]]) \n",
    "X_test[\"AnswerCount\"] = scaler.fit_transform(X_test[[\"AnswerCount\"]]) \n",
    "# Convertir les colonnes numeriques en tenseurs\n",
    "num1 = torch.tensor(X_test['Reputation'].values, dtype=torch.float32).unsqueeze(1)\n",
    "num2 = torch.tensor(X_test['BodyLength'].values, dtype=torch.float32).unsqueeze(1)\n",
    "num3 = torch.tensor(X_test['AnswerCount'].values, dtype=torch.float32).unsqueeze(1)\n",
    "# Combiner les tenseurs numériques en un seul tenseur\n",
    "num_ten_test = torch.cat([num1, num2,num3], dim=1)\n",
    "\n",
    "# Combiner les embeddings textuels et les colonnes numériques\n",
    "comb_feat_test = torch.cat([title_embed_test,body_embed_test,tag_embed_test, num_ten_test], dim=1)\n",
    "comb_feat_test"
   ]
  },
  {
   "cell_type": "code",
   "execution_count": null,
   "metadata": {
    "execution": {
     "iopub.status.busy": "2024-12-23T16:41:00.294772Z",
     "iopub.status.idle": "2024-12-23T16:41:00.295082Z",
     "shell.execute_reply": "2024-12-23T16:41:00.294957Z",
     "shell.execute_reply.started": "2024-12-23T16:41:00.294943Z"
    },
    "trusted": true
   },
   "outputs": [],
   "source": [
    " # Fine tuning de l'algorithme Random Forest\n",
    "param_grid = {\n",
    "     'n_estimators': [50, 100, 200],\n",
    "     'max_depth': [None, 10, 20],\n",
    "     'min_samples_split': [2, 5, 10]\n",
    "}\n",
    "\n",
    "grid_rdf = GridSearchCV(RandomForestClassifier(random_state=42), param_grid, cv=5, scoring='accuracy',n_jobs=-1)\n",
    "grid_rdf.fit(comb_feat_train, y_train)\n",
    "\n",
    "print(\"Meilleurs paramètres :\", grid_rdf.best_params_)\n",
    "print(\"Meilleure précision :\", grid_rdf.best_score_)"
   ]
  },
  {
   "cell_type": "code",
   "execution_count": null,
   "metadata": {
    "execution": {
     "iopub.status.busy": "2024-12-23T16:41:00.296718Z",
     "iopub.status.idle": "2024-12-23T16:41:00.297043Z",
     "shell.execute_reply": "2024-12-23T16:41:00.296914Z",
     "shell.execute_reply.started": "2024-12-23T16:41:00.296899Z"
    },
    "trusted": true
   },
   "outputs": [],
   "source": [
    "\n",
    "rf_model=grid_rdf.best_estimator_\n",
    "# Afficher les détails du modèle\n",
    "print(rf_model)\n",
    "rf_model.fit(comb_feat_train,y_train)\n",
    "y_pred = rf_model.predict(comb_feat_val.numpy())\n",
    "print(\"Random Forest Results:\")\n",
    "print(classification_report(y_val, y_pred))\n"
   ]
  },
  {
   "cell_type": "code",
   "execution_count": null,
   "metadata": {
    "execution": {
     "iopub.status.busy": "2024-12-23T16:41:00.297910Z",
     "iopub.status.idle": "2024-12-23T16:41:00.298185Z",
     "shell.execute_reply": "2024-12-23T16:41:00.298064Z",
     "shell.execute_reply.started": "2024-12-23T16:41:00.298050Z"
    },
    "trusted": true
   },
   "outputs": [],
   "source": [
    " # Fine tuning de l'algorithme xgboost\n",
    " param_xgb = {\n",
    "     'n_estimators': [50, 100, 200],\n",
    "     'max_depth': [3, 5, 7],\n",
    "     'learning_rate': [0.01, 0.1, 0.2],\n",
    "     'subsample': [0.8, 1.0],\n",
    "     'colsample_bytree': [0.8, 1.0]\n",
    "}\n",
    "\n",
    " # Initialiser GridSearchCV\n",
    " grid_xgb = GridSearchCV(estimator=XGBClassifier(use_label_encoder=False, eval_metric='mlogloss', random_state=42),\n",
    "                            param_grid=param_xgb,\n",
    "                            scoring='accuracy',\n",
    "                            cv=5,\n",
    "                            n_jobs=-1)\n",
    "\n",
    " # Exécuter la recherche\n",
    " grid_xgb.fit(comb_feat_train, y_train)\n",
    "\n",
    " # Afficher les meilleurs hyperparamètres\n",
    " print(\"Meilleurs paramètres :\", grid_xgb.best_params_)\n",
    " print(\"Meilleure précision :\", grid_xgb.best_score_)"
   ]
  },
  {
   "cell_type": "code",
   "execution_count": null,
   "metadata": {
    "execution": {
     "iopub.status.busy": "2024-12-23T16:41:00.299583Z",
     "iopub.status.idle": "2024-12-23T16:41:00.299931Z",
     "shell.execute_reply": "2024-12-23T16:41:00.299760Z",
     "shell.execute_reply.started": "2024-12-23T16:41:00.299745Z"
    },
    "trusted": true
   },
   "outputs": [],
   "source": [
    "xgb_model=grid_xgb.best_estimator\n",
    "print(xgb_model)\n",
    "xgb_model.fit(comb_feat_train,y_train)\n",
    "y_pred_xgb = xgb_model.predict(comb_feat_val.numpy())\n",
    "print(\"XgBoost Results:\")\n",
    "print(classification_report(y_val, y_pred_xgb))\n"
   ]
  },
  {
   "cell_type": "code",
   "execution_count": null,
   "metadata": {
    "execution": {
     "iopub.status.busy": "2024-12-23T16:41:00.303044Z",
     "iopub.status.idle": "2024-12-23T16:41:00.303482Z",
     "shell.execute_reply": "2024-12-23T16:41:00.303271Z",
     "shell.execute_reply.started": "2024-12-23T16:41:00.303250Z"
    },
    "trusted": true
   },
   "outputs": [],
   "source": [
    "\n",
    "# Afficher l'importance des caractéristiques\n",
    "plt.figure(figsize=(10, 8))\n",
    "plot_importance(xgb_model, max_num_features=10)\n",
    "plt.title(\"Importance des caractéristiques\")\n",
    "plt.show()"
   ]
  },
  {
   "cell_type": "code",
   "execution_count": null,
   "metadata": {
    "execution": {
     "iopub.execute_input": "2024-12-23T16:46:08.012160Z",
     "iopub.status.busy": "2024-12-23T16:46:08.011729Z",
     "iopub.status.idle": "2024-12-23T16:46:08.020266Z",
     "shell.execute_reply": "2024-12-23T16:46:08.019151Z",
     "shell.execute_reply.started": "2024-12-23T16:46:08.012128Z"
    },
    "trusted": true
   },
   "outputs": [],
   "source": [
    "import torch\n",
    "import torch.nn as nn\n",
    "import torch.nn.functional as F\n",
    "\n",
    "class RobustCombinedNN(nn.Module):\n",
    "    def __init__(self, input_dim, hidden_dim, num_classes):\n",
    "        super(RobustCombinedNN, self).__init__()\n",
    "        \n",
    "        # Couche entièrement connectée avec régularisation\n",
    "        self.fc_layers = nn.Sequential(\n",
    "            nn.Linear(input_dim, hidden_dim),\n",
    "            nn.BatchNorm1d(hidden_dim),  # Normalisation pour accélérer l'entraînement\n",
    "            nn.ReLU(),\n",
    "            nn.Dropout(0.4),  # Régularisation\n",
    "            nn.Linear(hidden_dim, hidden_dim // 2),\n",
    "            nn.BatchNorm1d(hidden_dim // 2),\n",
    "            nn.ReLU(),\n",
    "            nn.Dropout(0.3),\n",
    "            nn.Linear(hidden_dim // 2, num_classes)  # Sortie pour les classes\n",
    "        )\n",
    "    \n",
    "    def forward(self, combined_input):\n",
    "        # Passer les données combinées dans les couches entièrement connectées\n",
    "        logits = self.fc_layers(combined_input)\n",
    "        # Appliquer Softmax pour obtenir des probabilités\n",
    "        probabilities = F.softmax(logits, dim=1)\n",
    "        return probabilities\n"
   ]
  },
  {
   "cell_type": "code",
   "execution_count": null,
   "metadata": {
    "execution": {
     "iopub.execute_input": "2024-12-23T16:50:53.990177Z",
     "iopub.status.busy": "2024-12-23T16:50:53.989326Z",
     "iopub.status.idle": "2024-12-23T16:50:53.995282Z",
     "shell.execute_reply": "2024-12-23T16:50:53.994313Z",
     "shell.execute_reply.started": "2024-12-23T16:50:53.990143Z"
    },
    "trusted": true
   },
   "outputs": [],
   "source": [
    "y_train = torch.tensor(y_train.values, dtype=torch.long) \n",
    "y_val = torch.tensor(y_val.values, dtype=torch.long) \n",
    "y_test = torch.tensor(y_test.values, dtype=torch.long) "
   ]
  },
  {
   "cell_type": "code",
   "execution_count": null,
   "metadata": {
    "execution": {
     "iopub.execute_input": "2024-12-23T16:46:13.658744Z",
     "iopub.status.busy": "2024-12-23T16:46:13.658369Z",
     "iopub.status.idle": "2024-12-23T16:46:13.852232Z",
     "shell.execute_reply": "2024-12-23T16:46:13.851204Z",
     "shell.execute_reply.started": "2024-12-23T16:46:13.658696Z"
    },
    "trusted": true
   },
   "outputs": [],
   "source": [
    "input_dim = comb_feat_train.shape[1]\n",
    "hidden_dim =2*input_dim\n",
    "num_classes = 6\n",
    "model = RobustCombinedNN(input_dim, hidden_dim, num_classes)"
   ]
  },
  {
   "cell_type": "code",
   "execution_count": null,
   "metadata": {
    "execution": {
     "iopub.execute_input": "2024-12-23T17:06:52.258485Z",
     "iopub.status.busy": "2024-12-23T17:06:52.258142Z",
     "iopub.status.idle": "2024-12-23T17:38:47.852474Z",
     "shell.execute_reply": "2024-12-23T17:38:47.851308Z",
     "shell.execute_reply.started": "2024-12-23T17:06:52.258458Z"
    },
    "trusted": true
   },
   "outputs": [],
   "source": [
    "from sklearn.metrics import confusion_matrix, classification_report\n",
    "import matplotlib.pyplot as plt\n",
    "\n",
    "# Initialisation des listes pour stocker les pertes et accuracy\n",
    "train_losses = []\n",
    "val_losses = []\n",
    "train_accuracies = []\n",
    "val_accuracies = []\n",
    "\n",
    "# Hyperparamètres\n",
    "epochs = 10\n",
    "batch_size = 32\n",
    "learning_rate = 0.005\n",
    "weight_decay = 1e-4\n",
    "\n",
    "# Optimiseur et fonction de perte\n",
    "optimizer = torch.optim.Adam(model.parameters(), lr=learning_rate, weight_decay=weight_decay)\n",
    "criterion = nn.CrossEntropyLoss()\n",
    "# Boucle d'entraînement\n",
    "for epoch in range(epochs):\n",
    "    model.train()  # Mode entraînement\n",
    "    epoch_train_loss = 0.0\n",
    "    train_correct_predictions = 0\n",
    "    train_total_samples = 0\n",
    "\n",
    "    # Entraînement\n",
    "    for i in range(0, comb_feat_train.size(0), batch_size):\n",
    "        # Extraction d'un lot\n",
    "        batch_inputs = comb_feat_train[i:i + batch_size]\n",
    "        batch_labels = y_train[i:i + batch_size]\n",
    "\n",
    "        # Réinitialisation des gradients\n",
    "        optimizer.zero_grad()\n",
    "\n",
    "        # Prédictions\n",
    "        probabilities = model(batch_inputs)\n",
    "\n",
    "        # Calcul de la perte\n",
    "        loss = criterion(probabilities, batch_labels)\n",
    "\n",
    "        # Rétropropagation\n",
    "        loss.backward()\n",
    "        optimizer.step()\n",
    "\n",
    "        # Ajouter la perte de ce lot\n",
    "        epoch_train_loss += loss.item()\n",
    "\n",
    "        # Calcul de l'accuracy\n",
    "        _, predicted_classes = torch.max(probabilities, dim=1)\n",
    "        train_correct_predictions += (predicted_classes == batch_labels).sum().item()\n",
    "        train_total_samples += batch_labels.size(0)\n",
    "\n",
    "    # Calcul de la perte moyenne et de l'accuracy pour l'entraînement\n",
    "    average_train_loss = epoch_train_loss / (len(comb_feat_train) // batch_size)\n",
    "    train_accuracy = train_correct_predictions / train_total_samples\n",
    "\n",
    "    train_losses.append(average_train_loss)\n",
    "    train_accuracies.append(train_accuracy)\n",
    "\n",
    "    # Validation\n",
    "    model.eval()  # Mode évaluation\n",
    "    val_loss = 0.0\n",
    "    val_correct_predictions = 0\n",
    "    val_total_samples = 0\n",
    "\n",
    "    with torch.no_grad():\n",
    "        for i in range(0, comb_feat_train.size(0), batch_size):\n",
    "            # Extraction d'un lot\n",
    "            batch_inputs = comb_feat_val[i:i + batch_size]\n",
    "            batch_labels = y_val[i:i + batch_size]\n",
    "\n",
    "            # Prédictions\n",
    "            probabilities = model(batch_inputs)\n",
    "\n",
    "            # Calcul de la perte\n",
    "            loss = criterion(probabilities, batch_labels)\n",
    "            val_loss += loss.item()\n",
    "\n",
    "            # Calcul de l'accuracy\n",
    "            _, predicted_classes = torch.max(probabilities, dim=1)\n",
    "            val_correct_predictions += (predicted_classes == batch_labels).sum().item()\n",
    "            val_total_samples += batch_labels.size(0)\n",
    "\n",
    "    # Calcul de la perte moyenne et de l'accuracy pour la validation\n",
    "    average_val_loss = val_loss / (len(comb_feat_val) // batch_size)\n",
    "    val_accuracy = val_correct_predictions / val_total_samples\n",
    "\n",
    "    val_losses.append(average_val_loss)\n",
    "    val_accuracies.append(val_accuracy)\n",
    "\n",
    "    # Afficher les résultats pour cette époque\n",
    "    print(f\"Époque {epoch + 1}, Perte Moyenne (Train): {average_train_loss:.4f}, Accuracy (Train): {train_accuracy:.4f}, \"\n",
    "          f\"Perte Moyenne (Val): {average_val_loss:.4f}, Accuracy (Val): {val_accuracy:.4f}\")\n"
   ]
  },
  {
   "cell_type": "code",
   "execution_count": null,
   "metadata": {
    "execution": {
     "iopub.execute_input": "2024-12-23T17:39:35.004682Z",
     "iopub.status.busy": "2024-12-23T17:39:35.004016Z",
     "iopub.status.idle": "2024-12-23T17:39:35.649813Z",
     "shell.execute_reply": "2024-12-23T17:39:35.648949Z",
     "shell.execute_reply.started": "2024-12-23T17:39:35.004649Z"
    },
    "trusted": true
   },
   "outputs": [],
   "source": [
    "# Tracer les pertes et accuracies\n",
    "plt.figure(figsize=(12, 5))\n",
    "\n",
    "# Pertes\n",
    "plt.subplot(1, 2, 1)\n",
    "plt.plot(train_losses, label='Pertes Entraînement')\n",
    "plt.plot(val_losses, label='Pertes Validation')\n",
    "plt.xlabel(\"Époques\")\n",
    "plt.ylabel(\"Perte\")\n",
    "plt.title(\"Évolution des pertes\")\n",
    "plt.legend()\n",
    "\n",
    "# Accuracy\n",
    "plt.subplot(1, 2, 2)\n",
    "plt.plot(train_accuracies, label='Accuracy Entraînement')\n",
    "plt.plot(val_accuracies, label='Accuracy Validation')\n",
    "plt.xlabel(\"Époques\")\n",
    "plt.ylabel(\"Accuracy\")\n",
    "plt.title(\"Évolution des accuracy\")\n",
    "plt.legend()\n",
    "\n",
    "plt.tight_layout()\n",
    "plt.show()\n"
   ]
  },
  {
   "cell_type": "code",
   "execution_count": null,
   "metadata": {
    "execution": {
     "iopub.execute_input": "2024-12-23T17:39:48.253471Z",
     "iopub.status.busy": "2024-12-23T17:39:48.253109Z",
     "iopub.status.idle": "2024-12-23T17:40:02.548509Z",
     "shell.execute_reply": "2024-12-23T17:40:02.547618Z",
     "shell.execute_reply.started": "2024-12-23T17:39:48.253439Z"
    },
    "trusted": true
   },
   "outputs": [],
   "source": [
    "# Calcul de la matrice de confusion sur les données de test\n",
    "model.eval()  # Mode évaluation\n",
    "with torch.no_grad():\n",
    "    test_probabilities = model(comb_feat_test)\n",
    "    _, test_predictions = torch.max(test_probabilities, dim=1)\n",
    "#Matrice de confusion sur les donnees de test\n",
    "conf_matrix = confusion_matrix(y_test, test_predictions)\n",
    "print(\"\\nMatrice de confusion sur les données de test :\\n\", conf_matrix)\n",
    "print(\"\\nRapport de classification :\\n\", classification_report(y_test, test_predictions))"
   ]
  },
  {
   "cell_type": "code",
   "execution_count": null,
   "metadata": {
    "trusted": true
   },
   "outputs": [],
   "source": [
    "# Sauvegarder le meilleur modele pour les futurs predictions\n",
    "xgb_model.save_model('model.json')"
   ]
  }
 ],
 "metadata": {
  "kaggle": {
   "accelerator": "gpu",
   "dataSources": [
    {
     "datasetId": 6148761,
     "sourceId": 9990877,
     "sourceType": "datasetVersion"
    },
    {
     "datasetId": 6283461,
     "sourceId": 10173426,
     "sourceType": "datasetVersion"
    }
   ],
   "dockerImageVersionId": 30786,
   "isGpuEnabled": true,
   "isInternetEnabled": true,
   "language": "python",
   "sourceType": "notebook"
  },
  "kernelspec": {
   "display_name": "Python 3",
   "language": "python",
   "name": "python3"
  },
  "language_info": {
   "codemirror_mode": {
    "name": "ipython",
    "version": 3
   },
   "file_extension": ".py",
   "mimetype": "text/x-python",
   "name": "python",
   "nbconvert_exporter": "python",
   "pygments_lexer": "ipython3",
   "version": "3.10.14"
  }
 },
 "nbformat": 4,
 "nbformat_minor": 4
}
